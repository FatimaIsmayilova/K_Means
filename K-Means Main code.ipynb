{
 "cells": [
  {
   "cell_type": "code",
   "execution_count": 1,
   "id": "5d5a9e57",
   "metadata": {},
   "outputs": [
    {
     "data": {
      "text/html": [
       "<div>\n",
       "<style scoped>\n",
       "    .dataframe tbody tr th:only-of-type {\n",
       "        vertical-align: middle;\n",
       "    }\n",
       "\n",
       "    .dataframe tbody tr th {\n",
       "        vertical-align: top;\n",
       "    }\n",
       "\n",
       "    .dataframe thead th {\n",
       "        text-align: right;\n",
       "    }\n",
       "</style>\n",
       "<table border=\"1\" class=\"dataframe\">\n",
       "  <thead>\n",
       "    <tr style=\"text-align: right;\">\n",
       "      <th></th>\n",
       "      <th>x</th>\n",
       "      <th>y</th>\n",
       "    </tr>\n",
       "  </thead>\n",
       "  <tbody>\n",
       "    <tr>\n",
       "      <th>0</th>\n",
       "      <td>1.842080</td>\n",
       "      <td>4.607572</td>\n",
       "    </tr>\n",
       "    <tr>\n",
       "      <th>1</th>\n",
       "      <td>5.658583</td>\n",
       "      <td>4.799964</td>\n",
       "    </tr>\n",
       "    <tr>\n",
       "      <th>2</th>\n",
       "      <td>6.352579</td>\n",
       "      <td>3.290854</td>\n",
       "    </tr>\n",
       "    <tr>\n",
       "      <th>3</th>\n",
       "      <td>2.904017</td>\n",
       "      <td>4.612204</td>\n",
       "    </tr>\n",
       "    <tr>\n",
       "      <th>4</th>\n",
       "      <td>3.231979</td>\n",
       "      <td>4.939894</td>\n",
       "    </tr>\n",
       "  </tbody>\n",
       "</table>\n",
       "</div>"
      ],
      "text/plain": [
       "          x         y\n",
       "0  1.842080  4.607572\n",
       "1  5.658583  4.799964\n",
       "2  6.352579  3.290854\n",
       "3  2.904017  4.612204\n",
       "4  3.231979  4.939894"
      ]
     },
     "execution_count": 1,
     "metadata": {},
     "output_type": "execute_result"
    }
   ],
   "source": [
    "import pandas as pd\n",
    "import warnings\n",
    "warnings.filterwarnings(\"ignore\")\n",
    "\n",
    "df = pd.read_csv(\"k-means.csv\", header  = None, sep = '\\t')\n",
    "\n",
    "for i in df.columns:\n",
    "    df[i] = df[i].apply(lambda x : float(x.replace(',', '.')))\n",
    "df.columns  = ['x', 'y']\n",
    "\n",
    "df.head()"
   ]
  },
  {
   "cell_type": "code",
   "execution_count": 2,
   "id": "a304d4e9",
   "metadata": {},
   "outputs": [
    {
     "data": {
      "text/plain": [
       "<matplotlib.collections.PathCollection at 0x192d03bad60>"
      ]
     },
     "execution_count": 2,
     "metadata": {},
     "output_type": "execute_result"
    },
    {
     "data": {
      "image/png": "[encoded data removed]",
      "text/plain": [
       "<Figure size 432x288 with 1 Axes>"
      ]
     },
     "metadata": {
      "needs_background": "light"
     },
     "output_type": "display_data"
    }
   ],
   "source": [
    "import matplotlib.pyplot as plt\n",
    "\n",
    "plt.scatter(df['x'], df['y'])"
   ]
  },
  {
   "cell_type": "code",
   "execution_count": 3,
   "id": "558c386e",
   "metadata": {},
   "outputs": [],
   "source": [
    "number_of_clusters = 3\n",
    "import random \n",
    "import numpy as np \n",
    "\n",
    "def distance_to_centroid(X, Y):\n",
    "        return np.linalg.norm(X - Y)\n",
    "    \n",
    "def buildKmeans():\n",
    "    c  = [[random.randint(1, 10), random.randint(1, 10)], \n",
    "          [random.randint(1, 10), random.randint(1, 10)], \n",
    "          [random.randint(1, 10), random.randint(1, 10)]]\n",
    "    \n",
    "    points = [[], [], []] \n",
    "    cluster1 = [[], []]\n",
    "    cluster2 = [[], []]\n",
    "    cluster3 = [[], []]\n",
    "\n",
    "    centroids_history = []\n",
    "    flag = True\n",
    "    count = 0\n",
    "\n",
    "    number_of_clusters = 3\n",
    "\n",
    "    for i in range(30):\n",
    "            cluster1[0].append(c[0][0])\n",
    "            cluster1[1].append(c[0][1])\n",
    "\n",
    "            cluster2[0].append(c[1][0])\n",
    "            cluster2[1].append(c[1][1])\n",
    "\n",
    "            cluster3[0].append(c[2][0])\n",
    "            cluster3[1].append(c[2][1])\n",
    "\n",
    "            points = [[], [], []] \n",
    "            \n",
    "            for k, j in zip(df['x'], df['y']):\n",
    "                distance = []\n",
    "                \n",
    "                for c2 in c:\n",
    "                    arr = np.array([k, j])\n",
    "                    distance.append(distance_to_centroid(c2, arr))\n",
    "                    \n",
    "                points[distance.index(min(distance))].append([k, j])\n",
    "                \n",
    "            f = True\n",
    "\n",
    "            for check in c:\n",
    "                if len(check) == 0:\n",
    "                    f = False\n",
    "            for p in points:\n",
    "                if len(p) == 0:\n",
    "                    f = False   \n",
    "\n",
    "            if f == True:       \n",
    "                for n in range(len(c)):\n",
    "                    c[n] = list(np.mean(points[n], axis = 0))\n",
    "    clusters = [cluster1, cluster2, cluster3]\n",
    "    return c, points, clusters\n",
    "        "
   ]
  },
  {
   "cell_type": "code",
   "execution_count": 4,
   "id": "3f945ec6",
   "metadata": {},
   "outputs": [
    {
     "name": "stdout",
     "output_type": "stream",
     "text": [
      "Clusters \n",
      " [[3.04367119 1.01541041]\n",
      " [1.95399466 5.02557006]\n",
      " [6.03366736 3.00052511]]\n",
      "Prediction :  [1 1 1 2 2 2]\n",
      "Silhouette =  0.6900993728779541\n",
      "IT DID NOT PASS ALL THE STAGES\n",
      "IT PASSED ALL THE STAGES\n"
     ]
    }
   ],
   "source": [
    "from sklearn.cluster import KMeans\n",
    "from sklearn.metrics import silhouette_score\n",
    "from itertools import chain\n",
    "\n",
    "kmeans_model = KMeans(n_clusters=3)\n",
    "kmeans_model.fit(df)\n",
    "\n",
    "print('Clusters \\n', kmeans_model.cluster_centers_)\n",
    "d = [[0.3, 5.2], [2, 4.4], [1.1, 5.2], [5.2, 2.9], [5.3, 3.3], [6.1, 2.8]]\n",
    "\n",
    "print('Prediction : ', kmeans_model.predict(d))\n",
    "\n",
    "score = silhouette_score(df, kmeans_model.labels_)\n",
    "print('Silhouette = ', score)\n",
    "\n",
    "def verification_test(my_centroids, sk_centroids):\n",
    "    flatten_my = list(chain.from_iterable(my_centroids))\n",
    "    flatten_sk = list(chain.from_iterable(sk_centroids))\n",
    "    \n",
    "    flatten_my = [round(x, 3) for x  in flatten_my]\n",
    "    flatten_sk = [round(x, 3) for x  in flatten_sk]\n",
    "    \n",
    "    if set(flatten_my) == set(flatten_sk):\n",
    "        return True\n",
    "    return False\n",
    "\n",
    "t = True\n",
    "c, points, clusters = buildKmeans()\n",
    "\n",
    "while t or verification_test(c, kmeans_model.cluster_centers_) == False:\n",
    "    if t!= True:\n",
    "        print('IT DID NOT PASS ALL THE STAGES')\n",
    "        break\n",
    "    t = False\n",
    "    \n",
    "    c, points, clusters = buildKmeans()\n",
    "\n",
    "print('IT PASSED ALL THE STAGES')"
   ]
  },
  {
   "cell_type": "code",
   "execution_count": 5,
   "id": "d1a24c5d",
   "metadata": {},
   "outputs": [],
   "source": [
    "clustersX = [[], [], []]\n",
    "clustersY = [[], [], []]\n",
    "\n",
    "for i in range(3):\n",
    "    for j in range(len(points[i])):\n",
    "        clustersX[i].append(points[i][j][0])\n",
    "        clustersY[i].append(points[i][j][1])"
   ]
  },
  {
   "cell_type": "code",
   "execution_count": 6,
   "id": "d6ad97e4",
   "metadata": {},
   "outputs": [
    {
     "data": {
      "image/png": "[encoded data removed]",
      "text/plain": [
       "<Figure size 432x288 with 1 Axes>"
      ]
     },
     "metadata": {
      "needs_background": "light"
     },
     "output_type": "display_data"
    }
   ],
   "source": [
    "plt.scatter(clustersX[0], clustersY[0], color =\"g\")\n",
    "plt.scatter(clustersX[1], clustersY[1], color =\"b\")\n",
    "plt.scatter(clustersX[2], clustersY[2], color =\"r\")\n",
    "#######################################################################\n",
    "plt.plot(clusters[0][0], clusters[0][1], marker = 'x', color = 'black')\n",
    "plt.plot(clusters[1][0], clusters[1][1], marker = 'x', color = 'black')\n",
    "plt.plot(clusters[2][0], clusters[2][1], marker = 'x', color = 'black')\n",
    "#######################################################################\n",
    "plt.scatter(c[0][0], c[0][1], marker = 'x',color = 'black', s = 110)\n",
    "plt.scatter(c[1][0], c[1][1], marker = 'x',color = 'black', s = 110)\n",
    "plt.scatter(c[2][0], c[2][1], marker = 'x',color = 'black', s = 110)\n",
    "\n",
    "plt.show()"
   ]
  },
  {
   "cell_type": "code",
   "execution_count": 7,
   "id": "e1d5a636",
   "metadata": {},
   "outputs": [
    {
     "data": {
      "image/png": "[encoded data removed]",
      "text/plain": [
       "<Figure size 432x288 with 1 Axes>"
      ]
     },
     "metadata": {
      "needs_background": "light"
     },
     "output_type": "display_data"
    }
   ],
   "source": [
    "cls = []\n",
    "df['res'] = kmeans_model.predict(df.values)\n",
    "for  i in df.res.unique():\n",
    "    cls.append(df[df.res == i])\n",
    "\n",
    "plt.scatter(cls[0]['x'], cls[0]['y'], color = 'green')\n",
    "plt.scatter(cls[1]['x'], cls[1]['y'], color = 'blue')\n",
    "plt.scatter(cls[2]['x'], cls[2]['y'], color = 'red')\n",
    "\n",
    "plt.scatter(kmeans_model.cluster_centers_[0][0],kmeans_model.cluster_centers_[0][1], marker = '8', color = 'black', s = 150)\n",
    "plt.scatter(kmeans_model.cluster_centers_[1][0],kmeans_model.cluster_centers_[1][1], marker = 'd', color = 'black', s = 150)\n",
    "plt.scatter(kmeans_model.cluster_centers_[2][0],kmeans_model.cluster_centers_[2][1], marker = '*', color = 'black', s = 150)\n",
    "\n",
    "plt.show()"
   ]
  },
  {
   "cell_type": "code",
   "execution_count": null,
   "id": "e75ad894",
   "metadata": {},
   "outputs": [],
   "source": []
  }
 ],
 "metadata": {
  "kernelspec": {
   "display_name": "Python 3 (ipykernel)",
   "language": "python",
   "name": "python3"
  },
  "language_info": {
   "codemirror_mode": {
    "name": "ipython",
    "version": 3
   },
   "file_extension": ".py",
   "mimetype": "text/x-python",
   "name": "python",
   "nbconvert_exporter": "python",
   "pygments_lexer": "ipython3",
   "version": "3.9.12"
  }
 },
 "nbformat": 4,
 "nbformat_minor": 5
}
